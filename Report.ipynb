{
 "cells": [
  {
   "cell_type": "markdown",
   "id": "c7b5a85e",
   "metadata": {},
   "source": [
    "\n",
    "# Final Submission Report\n",
    "\n",
    "## Dataset Description\n",
    "\n",
    "Below is a summary of the datasets used in this project:\n",
    "\n",
    "| Dataset Name      | Size              | Features              | Classes                | Train/Test Split   |\n",
    "|-------------------|-------------------|-----------------------|------------------------|--------------------|\n",
    "| California Housing | 20640 samples, 8 features | Longitude, Latitude, Housing Median Age, Total Rooms, Total Bedrooms, Population, Households, Median Income | Regression Task | 80% Train, 20% Test |\n",
    "| Titanic           | 891 samples, 12 features | Pclass, Sex, Age, SibSp, Parch, Fare, Embarked, etc. | Survived (0 = No, 1 = Yes) | 80% Train, 20% Test |\n",
    "| Fashion MNIST     | 60,000 training, 10,000 test samples, 784 features (28x28 grayscale images) | Pixel values (0-255) representing images of clothing items | 10 classes (T-shirt/top, Trouser, Pullover, etc.) | 60,000 Train, 10,000 Test |\n",
    "\n",
    "## Training Configurations\n",
    "\n",
    "Below are the training configurations used for each model:\n",
    "\n",
    "| Model Type          | Learning Rate | Batch Size | Epochs | Optimizer | Loss Function |\n",
    "|---------------------|---------------|------------|--------|-----------|---------------|\n",
    "| PyTorch ANN (Reg)   | 0.01          | 32         | 50     | Adam      | MSE           |\n",
    "| PyTorch ANN (Class) | 0.001         | 64         | 30     | Adam      | Binary CrossEntropy |\n",
    "| Keras CNN (Class)   | 0.0001        | 128        | 10     | Adam      | Categorical CrossEntropy |\n",
    "\n",
    "## Performance Metrics\n",
    "\n",
    "Here are the numerical results for each task and model:\n",
    "\n",
    "### PyTorch ANN (Regression)\n",
    "\n",
    "- **Dataset**: California Housing\n",
    "- **Metrics**: MSE = 0.37, MAE = 0.42\n",
    "\n",
    "### PyTorch ANN (Classification)\n",
    "\n",
    "- **Dataset**: Titanic\n",
    "- **Metrics**: Accuracy = 58%\n",
    "\n",
    "### Keras CNN (Classification)\n",
    "\n",
    "- **Dataset**: Fashion MNIST\n",
    "- **Metrics**: Accuracy = 88.7%\n",
    "\n",
    "## Comparative Table\n",
    "\n",
    "Here is a side-by-side comparison of the models and their results:\n",
    "\n",
    "| Model                | Dataset / Task       | Key Hyperparameters         | Final Metric    | Training Time |\n",
    "|----------------------|----------------------|-----------------------------|-----------------|---------------|\n",
    "| PyTorch ANN (Reg)     | California Housing    | LR=0.01, Epoch=50           | MSE=0.37, MAE=0.42 | ~3 min        |\n",
    "| PyTorch ANN (Class)   | Titanic               | LR=0.001, Epoch=30          | Accuracy=58%    | ~4 min        |\n",
    "| Keras CNN (Class)     | Fashion MNIST         | LR=0.0001, Epoch=10         | Accuracy=88.7%  | ~6 min        |\n"
   ]
  }
 ],
 "metadata": {
  "language_info": {
   "name": "python"
  }
 },
 "nbformat": 4,
 "nbformat_minor": 5
}
